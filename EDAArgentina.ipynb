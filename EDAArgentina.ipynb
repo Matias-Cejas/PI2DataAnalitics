{
 "cells": [
  {
   "attachments": {},
   "cell_type": "markdown",
   "metadata": {},
   "source": [
    "Importo librerias y leo el Dataset"
   ]
  },
  {
   "cell_type": "code",
   "execution_count": 92,
   "metadata": {},
   "outputs": [],
   "source": [
    "import pandas as pd\n",
    "df = pd.read_excel(\"Datasets/AircraftArgentina.xlsx\")"
   ]
  },
  {
   "attachments": {},
   "cell_type": "markdown",
   "metadata": {},
   "source": [
    "Observo el dataframe y elimino columnas que no necesito en mi analisis"
   ]
  },
  {
   "cell_type": "code",
   "execution_count": 93,
   "metadata": {},
   "outputs": [
    {
     "data": {
      "text/html": [
       "<div>\n",
       "<style scoped>\n",
       "    .dataframe tbody tr th:only-of-type {\n",
       "        vertical-align: middle;\n",
       "    }\n",
       "\n",
       "    .dataframe tbody tr th {\n",
       "        vertical-align: top;\n",
       "    }\n",
       "\n",
       "    .dataframe thead th {\n",
       "        text-align: right;\n",
       "    }\n",
       "</style>\n",
       "<table border=\"1\" class=\"dataframe\">\n",
       "  <thead>\n",
       "    <tr style=\"text-align: right;\">\n",
       "      <th></th>\n",
       "      <th>date</th>\n",
       "      <th>type</th>\n",
       "      <th>registration</th>\n",
       "      <th>operator</th>\n",
       "      <th>fat.</th>\n",
       "      <th>location</th>\n",
       "      <th>Unnamed: 6</th>\n",
       "      <th>pic</th>\n",
       "      <th>cat</th>\n",
       "    </tr>\n",
       "  </thead>\n",
       "  <tbody>\n",
       "    <tr>\n",
       "      <th>0</th>\n",
       "      <td>21-APR-2023</td>\n",
       "      <td>Beech 200 Super King Air</td>\n",
       "      <td>LV-WPM</td>\n",
       "      <td>Flytec SA</td>\n",
       "      <td>0</td>\n",
       "      <td>Salta-Martín Mi...</td>\n",
       "      <td>NaN</td>\n",
       "      <td>NaN</td>\n",
       "      <td>A2</td>\n",
       "    </tr>\n",
       "    <tr>\n",
       "      <th>1</th>\n",
       "      <td>2023-02-16 00:00:00</td>\n",
       "      <td>Cessna 208 Cargomaster</td>\n",
       "      <td>CX-MAX</td>\n",
       "      <td>Aeromás</td>\n",
       "      <td>0</td>\n",
       "      <td>near Berisso, BA</td>\n",
       "      <td>NaN</td>\n",
       "      <td>NaN</td>\n",
       "      <td>A1</td>\n",
       "    </tr>\n",
       "    <tr>\n",
       "      <th>2</th>\n",
       "      <td>2022-07-01 00:00:00</td>\n",
       "      <td>Learjet 35A</td>\n",
       "      <td>LV-BPA</td>\n",
       "      <td>Flying America</td>\n",
       "      <td>4</td>\n",
       "      <td>Río Grande-Gobe...</td>\n",
       "      <td>NaN</td>\n",
       "      <td>NaN</td>\n",
       "      <td>A1</td>\n",
       "    </tr>\n",
       "    <tr>\n",
       "      <th>3</th>\n",
       "      <td>2022-02-11 00:00:00</td>\n",
       "      <td>Cessna 501 Citation I/SP</td>\n",
       "      <td>LV-JUO</td>\n",
       "      <td>Aviajet SA</td>\n",
       "      <td>0</td>\n",
       "      <td>Morón-Ituzaingo...</td>\n",
       "      <td>NaN</td>\n",
       "      <td>NaN</td>\n",
       "      <td>A2</td>\n",
       "    </tr>\n",
       "    <tr>\n",
       "      <th>4</th>\n",
       "      <td>2020-11-05 00:00:00</td>\n",
       "      <td>Fairchild SA227-AC Metro III</td>\n",
       "      <td>LV-VDJ</td>\n",
       "      <td>Dos Mil Aerosistema SA</td>\n",
       "      <td>0</td>\n",
       "      <td>Mendoza-El Plume...</td>\n",
       "      <td>NaN</td>\n",
       "      <td>NaN</td>\n",
       "      <td>A2</td>\n",
       "    </tr>\n",
       "  </tbody>\n",
       "</table>\n",
       "</div>"
      ],
      "text/plain": [
       "                  date                          type registration  \\\n",
       "0          21-APR-2023      Beech 200 Super King Air       LV-WPM   \n",
       "1  2023-02-16 00:00:00        Cessna 208 Cargomaster       CX-MAX   \n",
       "2  2022-07-01 00:00:00                   Learjet 35A       LV-BPA   \n",
       "3  2022-02-11 00:00:00      Cessna 501 Citation I/SP       LV-JUO   \n",
       "4  2020-11-05 00:00:00  Fairchild SA227-AC Metro III       LV-VDJ   \n",
       "\n",
       "                 operator fat.             location  Unnamed: 6  pic cat  \n",
       "0               Flytec SA    0   Salta-Martín Mi...         NaN  NaN  A2  \n",
       "1                 Aeromás    0     near Berisso, BA         NaN  NaN  A1  \n",
       "2          Flying America    4   Río Grande-Gobe...         NaN  NaN  A1  \n",
       "3              Aviajet SA    0   Morón-Ituzaingo...         NaN  NaN  A2  \n",
       "4  Dos Mil Aerosistema SA    0  Mendoza-El Plume...         NaN  NaN  A2  "
      ]
     },
     "execution_count": 93,
     "metadata": {},
     "output_type": "execute_result"
    }
   ],
   "source": [
    "df.head()"
   ]
  },
  {
   "cell_type": "code",
   "execution_count": 94,
   "metadata": {},
   "outputs": [],
   "source": [
    "df.drop(\"pic\",axis=\"columns\",inplace=True)\n",
    "df.drop(\"cat\",axis=\"columns\",inplace=True)\n",
    "df.drop(\"Unnamed: 6\",axis=\"columns\",inplace=True)\n",
    "df.drop(\"type\",axis=\"columns\",inplace=True)\n",
    "df.drop(\"registration\",axis=\"columns\",inplace=True)\n",
    "df.drop(\"operator\",axis=\"columns\",inplace=True)\n"
   ]
  },
  {
   "attachments": {},
   "cell_type": "markdown",
   "metadata": {},
   "source": [
    "Corrijo errores en las fechas"
   ]
  },
  {
   "cell_type": "code",
   "execution_count": 95,
   "metadata": {},
   "outputs": [],
   "source": [
    "df.iloc[69, df.columns.get_loc('date')] = \"01/01/1992\"\n",
    "df.iloc[122, df.columns.get_loc('date')] = \"01/01/1971\"\n",
    "df.iloc[188, df.columns.get_loc('date')] = \"01/01/1956\"\n"
   ]
  },
  {
   "attachments": {},
   "cell_type": "markdown",
   "metadata": {},
   "source": [
    "Cambio de formato las fechas "
   ]
  },
  {
   "cell_type": "code",
   "execution_count": 96,
   "metadata": {},
   "outputs": [
    {
     "name": "stderr",
     "output_type": "stream",
     "text": [
      "C:\\Users\\Matias\\AppData\\Local\\Temp\\ipykernel_12976\\3713847380.py:3: UserWarning: Parsing dates in DD/MM/YYYY format when dayfirst=False (the default) was specified. This may lead to inconsistently parsed dates! Specify a format to ensure consistent parsing.\n",
      "  df[\"date\"] = pd.to_datetime(df[\"date\"])\n"
     ]
    }
   ],
   "source": [
    "df[\"date\"] = pd.to_datetime(df[\"date\"])\n",
    "df[\"date\"] = df[\"date\"].dt.strftime(\"%d/%m/%Y\")\n",
    "df[\"date\"] = pd.to_datetime(df[\"date\"])"
   ]
  },
  {
   "attachments": {},
   "cell_type": "markdown",
   "metadata": {},
   "source": [
    "Obserbo los registros nulos y los elimino ya que no puedo determinar las fatalidades que es el objetivo de mi analisis"
   ]
  },
  {
   "cell_type": "code",
   "execution_count": 97,
   "metadata": {},
   "outputs": [
    {
     "data": {
      "text/plain": [
       "date         0\n",
       "fat.        22\n",
       "location     3\n",
       "dtype: int64"
      ]
     },
     "execution_count": 97,
     "metadata": {},
     "output_type": "execute_result"
    }
   ],
   "source": [
    "df.isnull().sum()"
   ]
  },
  {
   "cell_type": "code",
   "execution_count": 98,
   "metadata": {},
   "outputs": [],
   "source": [
    "mascara = df[df[\"fat.\"].isnull()]\n",
    "df = df.drop(labels= mascara.index, axis=0)"
   ]
  },
  {
   "attachments": {},
   "cell_type": "markdown",
   "metadata": {},
   "source": [
    "Renombro columnas"
   ]
  },
  {
   "cell_type": "code",
   "execution_count": 99,
   "metadata": {},
   "outputs": [],
   "source": [
    "df = df.rename(columns={'date': 'Fecha'})\n",
    "df = df.rename(columns={'fat.': 'Muertes'})\n",
    "df = df.rename(columns={'location': 'Ubicacion'})"
   ]
  },
  {
   "cell_type": "code",
   "execution_count": 100,
   "metadata": {},
   "outputs": [
    {
     "name": "stdout",
     "output_type": "stream",
     "text": [
      "<class 'pandas.core.frame.DataFrame'>\n",
      "Int64Index: 228 entries, 0 to 249\n",
      "Data columns (total 3 columns):\n",
      " #   Column     Non-Null Count  Dtype         \n",
      "---  ------     --------------  -----         \n",
      " 0   Fecha      228 non-null    datetime64[ns]\n",
      " 1   Muertes    228 non-null    object        \n",
      " 2   Ubicacion  228 non-null    object        \n",
      "dtypes: datetime64[ns](1), object(2)\n",
      "memory usage: 7.1+ KB\n"
     ]
    }
   ],
   "source": [
    "df.info()"
   ]
  },
  {
   "attachments": {},
   "cell_type": "markdown",
   "metadata": {},
   "source": [
    "Exporto el archivo listo para el analisis"
   ]
  },
  {
   "cell_type": "code",
   "execution_count": 101,
   "metadata": {},
   "outputs": [],
   "source": [
    "###### Finalmente terminado el EDA genero un nuevo csv limpio para el consumo del analisis en Power BI ######\n",
    "df.to_csv(\"DataSets/AccidentesArg.csv\",index=False)"
   ]
  },
  {
   "cell_type": "code",
   "execution_count": 102,
   "metadata": {},
   "outputs": [],
   "source": [
    "import pandas as pd\n",
    "\n",
    "data = {\n",
    "    'Año': [2013, 2022, 2013, 2022],\n",
    "    'País': ['Mundo', 'Mundo', 'Argentina', 'Argentina'],\n",
    "    'Legislacion': [80.92, 76.47, 85.71, 68.18],\n",
    "    'Organizacion': [74.65, 70.8, 90, 41.66],\n",
    "    'Licencias': [83.45, 73.07, 91.78, 87.35],\n",
    "    'OperacionesAereas': [70, 70.61, 90.24, 36.44],\n",
    "    'Navegabilidad': [76.83, 83.08, 93.1, 56.86],\n",
    "    'InvestigacionAccidentes': [58.76, 54.55, 97.75, 89.28],\n",
    "    'ServiciosNavegacionAerea': [51.67, 65.21, 71.08, 37.7],\n",
    "    'Aerodromos': [53, 70.22, 83.69, 70.22]\n",
    "}\n",
    "\n",
    "df1 = pd.DataFrame(data)\n"
   ]
  },
  {
   "cell_type": "code",
   "execution_count": 105,
   "metadata": {},
   "outputs": [],
   "source": [
    "df1.to_csv(\"DataSets/DatosArg.csv\",index=False)"
   ]
  }
 ],
 "metadata": {
  "kernelspec": {
   "display_name": "Python 3",
   "language": "python",
   "name": "python3"
  },
  "language_info": {
   "codemirror_mode": {
    "name": "ipython",
    "version": 3
   },
   "file_extension": ".py",
   "mimetype": "text/x-python",
   "name": "python",
   "nbconvert_exporter": "python",
   "pygments_lexer": "ipython3",
   "version": "3.10.9"
  },
  "orig_nbformat": 4
 },
 "nbformat": 4,
 "nbformat_minor": 2
}
